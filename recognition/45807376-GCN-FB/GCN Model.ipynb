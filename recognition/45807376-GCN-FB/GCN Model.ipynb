{
 "cells": [
  {
   "cell_type": "code",
   "execution_count": 28,
   "id": "4819f01b",
   "metadata": {},
   "outputs": [
    {
     "ename": "ModuleNotFoundError",
     "evalue": "No module named 'stellargraph'",
     "output_type": "error",
     "traceback": [
      "\u001b[0;31m---------------------------------------------------------------------------\u001b[0m",
      "\u001b[0;31mModuleNotFoundError\u001b[0m                       Traceback (most recent call last)",
      "\u001b[0;32m<ipython-input-28-3779e0a0a97c>\u001b[0m in \u001b[0;36m<module>\u001b[0;34m\u001b[0m\n\u001b[1;32m      8\u001b[0m \u001b[0;32mfrom\u001b[0m \u001b[0mtensorflow\u001b[0m\u001b[0;34m.\u001b[0m\u001b[0mkeras\u001b[0m \u001b[0;32mimport\u001b[0m \u001b[0mlayers\u001b[0m\u001b[0;34m,\u001b[0m \u001b[0moptimizers\u001b[0m\u001b[0;34m,\u001b[0m \u001b[0mlosses\u001b[0m\u001b[0;34m,\u001b[0m \u001b[0mModel\u001b[0m\u001b[0;34m\u001b[0m\u001b[0;34m\u001b[0m\u001b[0m\n\u001b[1;32m      9\u001b[0m \u001b[0;34m\u001b[0m\u001b[0m\n\u001b[0;32m---> 10\u001b[0;31m \u001b[0;32mimport\u001b[0m \u001b[0mstellargraph\u001b[0m \u001b[0;32mas\u001b[0m \u001b[0msg\u001b[0m\u001b[0;34m\u001b[0m\u001b[0;34m\u001b[0m\u001b[0m\n\u001b[0m\u001b[1;32m     11\u001b[0m \u001b[0;34m\u001b[0m\u001b[0m\n\u001b[1;32m     12\u001b[0m \u001b[0;32mimport\u001b[0m \u001b[0mmatplotlib\u001b[0m \u001b[0;32mas\u001b[0m \u001b[0mplt\u001b[0m\u001b[0;34m\u001b[0m\u001b[0;34m\u001b[0m\u001b[0m\n",
      "\u001b[0;31mModuleNotFoundError\u001b[0m: No module named 'stellargraph'"
     ]
    }
   ],
   "source": [
    "import numpy as np\n",
    "import tensorflow as tf\n",
    "import pandas as pd\n",
    "\n",
    "from sklearn.model_selection import train_test_split\n",
    "from sklearn.manifold import TSNE\n",
    "\n",
    "from tensorflow.keras import layers, optimizers, losses, Model\n",
    "\n",
    "import matplotlib as plt\n",
    "import model"
   ]
  },
  {
   "cell_type": "code",
   "execution_count": 49,
   "id": "1cf24395",
   "metadata": {},
   "outputs": [
    {
     "name": "stdout",
     "output_type": "stream",
     "text": [
      "num of classes: 4\n",
      "num of nodes: 22470\n",
      "num of edges: 171002.0\n",
      "num of features: 128\n"
     ]
    }
   ],
   "source": [
    "# FEATURE EXTRACTION\n",
    "# get data (X) from files\n",
    "def load_data():\n",
    "    \"\"\" \n",
    "    loads preprocessed data from facebook.npz file \n",
    "    Returns:\n",
    "        \n",
    "    \"\"\"\n",
    "    data = np.load('facebook.npz')\n",
    "    \n",
    "    edges = data.get('edges')\n",
    "    labels = data.get('target')\n",
    "    features = data.get('features')\n",
    "    \n",
    "    # adjacency matrix\n",
    "    n = len(labels)\n",
    "    A = np.zeros((n,n), dtype = np.float32)\n",
    "    for i in edges:\n",
    "        A[i[0]][i[1]] = 1 \n",
    "    \n",
    "    # check loaded properly\n",
    "    print(\"num of classes: \" + str(len(np.unique(labels))))\n",
    "    print(\"num of nodes: \" + str(features.shape[0]))\n",
    "    print(\"num of edges: \"+ str(len(edges)/2))\n",
    "    print(\"num of features: \" + str(features.shape[1]))\n",
    "    \n",
    "load_data()"
   ]
  },
  {
   "cell_type": "code",
   "execution_count": 33,
   "id": "dcb044e3",
   "metadata": {},
   "outputs": [
    {
     "ename": "NameError",
     "evalue": "name 'target' is not defined",
     "output_type": "error",
     "traceback": [
      "\u001b[0;31m---------------------------------------------------------------------------\u001b[0m",
      "\u001b[0;31mNameError\u001b[0m                                 Traceback (most recent call last)",
      "\u001b[0;32m<ipython-input-33-f17eed473dd8>\u001b[0m in \u001b[0;36m<module>\u001b[0;34m\u001b[0m\n\u001b[1;32m      1\u001b[0m \u001b[0;31m# Adjacency Matrix A\u001b[0m\u001b[0;34m\u001b[0m\u001b[0;34m\u001b[0m\u001b[0;34m\u001b[0m\u001b[0m\n\u001b[0;32m----> 2\u001b[0;31m \u001b[0mtf\u001b[0m\u001b[0;34m.\u001b[0m\u001b[0meye\u001b[0m\u001b[0;34m(\u001b[0m\u001b[0mlen\u001b[0m\u001b[0;34m(\u001b[0m\u001b[0mtarget\u001b[0m\u001b[0;34m)\u001b[0m\u001b[0;34m)\u001b[0m\u001b[0;34m\u001b[0m\u001b[0;34m\u001b[0m\u001b[0m\n\u001b[0m",
      "\u001b[0;31mNameError\u001b[0m: name 'target' is not defined"
     ]
    }
   ],
   "source": [
    "# Adjacency Matrix A\n",
    "tf.eye(len(target))\n"
   ]
  },
  {
   "cell_type": "code",
   "execution_count": null,
   "id": "a7076036",
   "metadata": {},
   "outputs": [],
   "source": [
    "\n",
    "# facebook pages\n",
    "node_df = pd.read_csv('musae_facebook_target.csv')\n",
    "# mutual likes based on id\n",
    "edges_df = pd.read_csv('musae_facebook_edges.csv')\n",
    "\n",
    "# json node description\n",
    "features_df = pd.read_json('musae_facebook_features.json', orient = \"records\")"
   ]
  },
  {
   "cell_type": "code",
   "execution_count": null,
   "id": "7977e027",
   "metadata": {},
   "outputs": [],
   "source": [
    "# get nodes\n",
    "node_names = ['id', 'facebook_id', 'page_name', 'page_type']\n",
    "training_nodes = node_df[node_names]\n",
    "\n",
    "edge_name = ['page_type']\n",
    "edge_label = edges_df[edge_name]"
   ]
  },
  {
   "cell_type": "code",
   "execution_count": null,
   "id": "bb5522d7",
   "metadata": {},
   "outputs": [],
   "source": [
    "###### test - load features #######\n",
    "training_nodes\n",
    "edge_label"
   ]
  },
  {
   "cell_type": "code",
   "execution_count": null,
   "id": "901ce788",
   "metadata": {},
   "outputs": [],
   "source": [
    "# PROCESSING"
   ]
  },
  {
   "cell_type": "code",
   "execution_count": null,
   "id": "bcffea63",
   "metadata": {},
   "outputs": [],
   "source": [
    "# split data into training, testing, and validation\n",
    "train_data, test_data = \n",
    "val_data, test_data = "
   ]
  },
  {
   "cell_type": "code",
   "execution_count": null,
   "id": "85babb6b",
   "metadata": {},
   "outputs": [],
   "source": [
    "# CREATING GCN LAYERS"
   ]
  },
  {
   "cell_type": "code",
   "execution_count": null,
   "id": "a59fcd44",
   "metadata": {},
   "outputs": [],
   "source": []
  },
  {
   "cell_type": "code",
   "execution_count": null,
   "id": "1d4ef805",
   "metadata": {},
   "outputs": [],
   "source": [
    "def plot_TSNE(encoded_labels, x_tsne):\n",
    "    \n",
    "    plt.figure(figsize = (10,10))\n",
    "    for i in range(num_classes):\n",
    "        indexes "
   ]
  },
  {
   "cell_type": "markdown",
   "id": "b01cda93",
   "metadata": {},
   "source": []
  }
 ],
 "metadata": {
  "kernelspec": {
   "display_name": "Python 3",
   "language": "python",
   "name": "python3"
  },
  "language_info": {
   "codemirror_mode": {
    "name": "ipython",
    "version": 3
   },
   "file_extension": ".py",
   "mimetype": "text/x-python",
   "name": "python",
   "nbconvert_exporter": "python",
   "pygments_lexer": "ipython3",
   "version": "3.9.6"
  }
 },
 "nbformat": 4,
 "nbformat_minor": 5
}
