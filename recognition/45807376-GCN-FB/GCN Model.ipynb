{
 "cells": [
  {
   "cell_type": "markdown",
   "id": "62612ac2",
   "metadata": {},
   "source": [
    "#### Import Required Modules"
   ]
  },
  {
   "cell_type": "code",
   "execution_count": 12,
   "id": "4819f01b",
   "metadata": {},
   "outputs": [],
   "source": [
    "import numpy as np\n",
    "import tensorflow as tf\n",
    "import pandas as pd\n",
    "import random\n",
    "\n",
    "from sklearn.manifold import TSNE\n",
    "from sklearn.preprocessing import LabelEncoder\n",
    "from sklearn.metrics import classification_report, f1_score\n",
    "\n",
    "from tensorflow.keras import layers, losses, Model, regularizers\n",
    "from tensorflow.keras.optimizers import Adam\n",
    "from tensorflow.keras.regularizers import l2\n",
    "from tensorflow.keras.callbacks import EarlyStopping\n",
    "from tensorflow.keras.utils import to_categorical\n",
    "\n",
    "import matplotlib.pyplot as plt\n",
    "from model import *"
   ]
  },
  {
   "cell_type": "markdown",
   "id": "117c07a2",
   "metadata": {},
   "source": [
    "## Loading & Preprocessing Data\n",
    "#### Feature Extraction - Load data from facebook dataset"
   ]
  },
  {
   "cell_type": "code",
   "execution_count": 2,
   "id": "a451e99b",
   "metadata": {},
   "outputs": [
    {
     "name": "stdout",
     "output_type": "stream",
     "text": [
      "num of classes: 4\n",
      "num of nodes: 22470\n",
      "num of features: 128\n",
      "num of edges: 171002.0\n"
     ]
    }
   ],
   "source": [
    "# load data\n",
    "X_features, labels, edges = load_data()\n",
    "\n",
    "# check loaded properly\n",
    "num_classes = len(np.unique(labels))\n",
    "num_nodes = X_features.shape[0]\n",
    "num_features = X_features.shape[1]\n",
    "num_edges = len(edges)/2\n",
    "\n",
    "print(\"num of classes: \" + str(num_classes))\n",
    "print(\"num of nodes: \" + str(num_nodes))\n",
    "print(\"num of features: \" + str(num_features))\n",
    "print(\"num of edges: \"+ str(num_edges))\n",
    "\n",
    "# adjacency matrix\n",
    "A = get_adj_matrix(labels, edges)"
   ]
  },
  {
   "cell_type": "markdown",
   "id": "c849e276",
   "metadata": {},
   "source": [
    "#### Normalise Adjacency Matrix"
   ]
  },
  {
   "cell_type": "code",
   "execution_count": 3,
   "id": "f660c16d",
   "metadata": {},
   "outputs": [],
   "source": [
    "# normalise\n",
    "A = normalise_adj(A)"
   ]
  },
  {
   "cell_type": "markdown",
   "id": "47e46e6d",
   "metadata": {},
   "source": [
    "#### Split Training, Validation, and Testing"
   ]
  },
  {
   "cell_type": "code",
   "execution_count": 5,
   "id": "a6ffd79f",
   "metadata": {},
   "outputs": [
    {
     "name": "stderr",
     "output_type": "stream",
     "text": [
      "<ipython-input-4-d953b9bd1601>:19: DeprecationWarning: Sampling from a set deprecated\n",
      "since Python 3.9 and will be removed in a subsequent version.\n",
      "  val_set = random.sample(remainder, k = size)\n"
     ]
    }
   ],
   "source": [
    "# Get indices for splitting set\n",
    "train_idx, val_idx, test_idx = split_index(labels)\n",
    "\n",
    "# Apply mask\n",
    "train_mask = np.zeros((num_nodes,), dtype = bool)\n",
    "val_mask = np.zeros((num_nodes,), dtype = bool)\n",
    "test_mask = np.zeros((num_nodes,), dtype = bool)\n",
    "\n",
    "train_mask[train_idx] = True\n",
    "val_mask[val_idx] = True\n",
    "test_mask[test_idx] = True"
   ]
  },
  {
   "cell_type": "code",
   "execution_count": null,
   "id": "67cae4fd",
   "metadata": {},
   "outputs": [],
   "source": [
    "# One-hot encoding\n",
    "def encode(labels):\n",
    "    encoder = LabelEncoder()\n",
    "    labels = encoder.fit_transform(labels) # returns encoded labels\n",
    "    encoded_labels = to_categorical(labels)\n",
    "    return encoded_labels, encoder.classes_, encoder\n",
    "\n",
    "encoded_labels, classes, encoder = encode(labels)"
   ]
  },
  {
   "cell_type": "markdown",
   "id": "86bbb24f",
   "metadata": {},
   "source": [
    "## Building & Training GCN"
   ]
  },
  {
   "cell_type": "code",
   "execution_count": 8,
   "id": "0a533c74",
   "metadata": {},
   "outputs": [],
   "source": [
    "# Parameters\n",
    "channels = 16 #num for first layer\n",
    "dropout = 0.5 #rate\n",
    "l_rate = 1e-2 #learning rate\n",
    "l2_reg = 2.5e-4 # regularisation rate\n",
    "epochs = 200 #number of epochs"
   ]
  },
  {
   "cell_type": "code",
   "execution_count": 9,
   "id": "7fa3802c",
   "metadata": {
    "scrolled": true
   },
   "outputs": [
    {
     "name": "stdout",
     "output_type": "stream",
     "text": [
      "Model: \"model\"\n",
      "__________________________________________________________________________________________________\n",
      "Layer (type)                    Output Shape         Param #     Connected to                     \n",
      "==================================================================================================\n",
      "input_1 (InputLayer)            [(None, 128)]        0                                            \n",
      "__________________________________________________________________________________________________\n",
      "dropout (Dropout)               (None, 128)          0           input_1[0][0]                    \n",
      "__________________________________________________________________________________________________\n",
      "input_2 (InputLayer)            [(None, 22470)]      0                                            \n",
      "__________________________________________________________________________________________________\n",
      "gcn__layer (GCN_Layer)          (None, 16)           2048        dropout[0][0]                    \n",
      "                                                                 input_2[0][0]                    \n",
      "__________________________________________________________________________________________________\n",
      "dropout_1 (Dropout)             (None, 16)           0           gcn__layer[0][0]                 \n",
      "__________________________________________________________________________________________________\n",
      "gcn__layer_1 (GCN_Layer)        (None, 4)            64          dropout_1[0][0]                  \n",
      "                                                                 input_2[0][0]                    \n",
      "==================================================================================================\n",
      "Total params: 2,112\n",
      "Trainable params: 2,112\n",
      "Non-trainable params: 0\n",
      "__________________________________________________________________________________________________\n"
     ]
    }
   ],
   "source": [
    "# Create and Compile\n",
    "model = GCN_Model(num_features, num_classes, channels, \n",
    "                  dropout, l2(l2_reg), num_nodes)\n",
    "\n",
    "model.compile(optimizer = Adam(learning_rate = l_rate), \n",
    "              loss = 'categorical_crossentropy', metrics = ['acc'])\n",
    "model.summary()"
   ]
  },
  {
   "cell_type": "code",
   "execution_count": 10,
   "id": "27857857",
   "metadata": {},
   "outputs": [
    {
     "name": "stdout",
     "output_type": "stream",
     "text": [
      "Epoch 1/200\n",
      "1/1 [==============================] - 18s 18s/step - loss: 0.3036 - acc: 0.2383 - val_loss: 0.2547 - val_acc: 0.3399\n",
      "Epoch 2/200\n",
      "1/1 [==============================] - 2s 2s/step - loss: 0.2682 - acc: 0.3380 - val_loss: 0.2293 - val_acc: 0.5217\n",
      "Epoch 3/200\n",
      "1/1 [==============================] - 2s 2s/step - loss: 0.2449 - acc: 0.4731 - val_loss: 0.2079 - val_acc: 0.6548\n",
      "Epoch 4/200\n",
      "1/1 [==============================] - 2s 2s/step - loss: 0.2230 - acc: 0.5942 - val_loss: 0.1896 - val_acc: 0.7223\n",
      "Epoch 5/200\n",
      "1/1 [==============================] - 2s 2s/step - loss: 0.2039 - acc: 0.6605 - val_loss: 0.1737 - val_acc: 0.7506\n",
      "Epoch 6/200\n",
      "1/1 [==============================] - 2s 2s/step - loss: 0.1874 - acc: 0.6974 - val_loss: 0.1600 - val_acc: 0.7650\n",
      "Epoch 7/200\n",
      "1/1 [==============================] - 2s 2s/step - loss: 0.1722 - acc: 0.7165 - val_loss: 0.1482 - val_acc: 0.7780\n",
      "Epoch 8/200\n",
      "1/1 [==============================] - 2s 2s/step - loss: 0.1603 - acc: 0.7305 - val_loss: 0.1380 - val_acc: 0.7852\n",
      "Epoch 9/200\n",
      "1/1 [==============================] - 2s 2s/step - loss: 0.1505 - acc: 0.7455 - val_loss: 0.1294 - val_acc: 0.7920\n",
      "Epoch 10/200\n",
      "1/1 [==============================] - 2s 2s/step - loss: 0.1442 - acc: 0.7524 - val_loss: 0.1221 - val_acc: 0.7984\n",
      "Epoch 11/200\n",
      "1/1 [==============================] - 2s 2s/step - loss: 0.1364 - acc: 0.7566 - val_loss: 0.1159 - val_acc: 0.8040\n",
      "Epoch 12/200\n",
      "1/1 [==============================] - 2s 2s/step - loss: 0.1293 - acc: 0.7656 - val_loss: 0.1106 - val_acc: 0.8082\n",
      "Epoch 13/200\n",
      "1/1 [==============================] - 2s 2s/step - loss: 0.1228 - acc: 0.7807 - val_loss: 0.1062 - val_acc: 0.8130\n",
      "Epoch 14/200\n",
      "1/1 [==============================] - 2s 2s/step - loss: 0.1207 - acc: 0.7782 - val_loss: 0.1024 - val_acc: 0.8169\n",
      "Epoch 15/200\n",
      "1/1 [==============================] - 2s 2s/step - loss: 0.1184 - acc: 0.7810 - val_loss: 0.0991 - val_acc: 0.8200\n",
      "Epoch 16/200\n",
      "1/1 [==============================] - 2s 2s/step - loss: 0.1115 - acc: 0.7925 - val_loss: 0.0963 - val_acc: 0.8238\n",
      "Epoch 17/200\n",
      "1/1 [==============================] - 2s 2s/step - loss: 0.1109 - acc: 0.7948 - val_loss: 0.0937 - val_acc: 0.8276\n",
      "Epoch 18/200\n",
      "1/1 [==============================] - 2s 2s/step - loss: 0.1058 - acc: 0.8045 - val_loss: 0.0914 - val_acc: 0.8320\n",
      "Epoch 19/200\n",
      "1/1 [==============================] - 2s 2s/step - loss: 0.1048 - acc: 0.7984 - val_loss: 0.0892 - val_acc: 0.8358\n",
      "Epoch 20/200\n",
      "1/1 [==============================] - 2s 2s/step - loss: 0.1009 - acc: 0.8033 - val_loss: 0.0872 - val_acc: 0.8406\n",
      "Epoch 21/200\n",
      "1/1 [==============================] - 2s 2s/step - loss: 0.0969 - acc: 0.8141 - val_loss: 0.0853 - val_acc: 0.8443\n",
      "Epoch 22/200\n",
      "1/1 [==============================] - 2s 2s/step - loss: 0.1019 - acc: 0.8114 - val_loss: 0.0836 - val_acc: 0.8484\n",
      "Epoch 23/200\n",
      "1/1 [==============================] - 2s 2s/step - loss: 0.0960 - acc: 0.8210 - val_loss: 0.0819 - val_acc: 0.8523\n",
      "Epoch 24/200\n",
      "1/1 [==============================] - 2s 2s/step - loss: 0.0967 - acc: 0.8176 - val_loss: 0.0803 - val_acc: 0.8567\n",
      "Epoch 25/200\n",
      "1/1 [==============================] - 2s 2s/step - loss: 0.0936 - acc: 0.8243 - val_loss: 0.0788 - val_acc: 0.8602\n",
      "Epoch 26/200\n",
      "1/1 [==============================] - 2s 2s/step - loss: 0.0926 - acc: 0.8296 - val_loss: 0.0774 - val_acc: 0.8637\n",
      "Epoch 27/200\n",
      "1/1 [==============================] - 2s 2s/step - loss: 0.0904 - acc: 0.8290 - val_loss: 0.0760 - val_acc: 0.8668\n",
      "Epoch 28/200\n",
      "1/1 [==============================] - 2s 2s/step - loss: 0.0895 - acc: 0.8340 - val_loss: 0.0748 - val_acc: 0.8696\n",
      "Epoch 29/200\n",
      "1/1 [==============================] - 2s 2s/step - loss: 0.0866 - acc: 0.8378 - val_loss: 0.0736 - val_acc: 0.8728\n",
      "Epoch 30/200\n",
      "1/1 [==============================] - 2s 2s/step - loss: 0.0910 - acc: 0.8392 - val_loss: 0.0726 - val_acc: 0.8761\n",
      "Epoch 31/200\n",
      "1/1 [==============================] - 2s 2s/step - loss: 0.0851 - acc: 0.8488 - val_loss: 0.0716 - val_acc: 0.8789\n",
      "Epoch 32/200\n",
      "1/1 [==============================] - 2s 2s/step - loss: 0.0876 - acc: 0.8397 - val_loss: 0.0706 - val_acc: 0.8809\n",
      "Epoch 33/200\n",
      "1/1 [==============================] - 2s 2s/step - loss: 0.0878 - acc: 0.8425 - val_loss: 0.0698 - val_acc: 0.8829\n",
      "Epoch 34/200\n",
      "1/1 [==============================] - 2s 2s/step - loss: 0.0828 - acc: 0.8498 - val_loss: 0.0691 - val_acc: 0.8854\n",
      "Epoch 35/200\n",
      "1/1 [==============================] - 2s 2s/step - loss: 0.0821 - acc: 0.8449 - val_loss: 0.0684 - val_acc: 0.8870\n",
      "Epoch 36/200\n",
      "1/1 [==============================] - 2s 2s/step - loss: 0.0802 - acc: 0.8568 - val_loss: 0.0677 - val_acc: 0.8881\n",
      "Epoch 37/200\n",
      "1/1 [==============================] - 2s 2s/step - loss: 0.0828 - acc: 0.8506 - val_loss: 0.0671 - val_acc: 0.8895\n",
      "Epoch 38/200\n",
      "1/1 [==============================] - 2s 2s/step - loss: 0.0788 - acc: 0.8508 - val_loss: 0.0666 - val_acc: 0.8906\n",
      "Epoch 39/200\n",
      "1/1 [==============================] - 2s 2s/step - loss: 0.0785 - acc: 0.8537 - val_loss: 0.0660 - val_acc: 0.8910\n",
      "Epoch 40/200\n",
      "1/1 [==============================] - 2s 2s/step - loss: 0.0793 - acc: 0.8535 - val_loss: 0.0655 - val_acc: 0.8915\n",
      "Epoch 41/200\n",
      "1/1 [==============================] - 2s 2s/step - loss: 0.0764 - acc: 0.8579 - val_loss: 0.0650 - val_acc: 0.8930\n",
      "Epoch 42/200\n",
      "1/1 [==============================] - 2s 2s/step - loss: 0.0761 - acc: 0.8546 - val_loss: 0.0646 - val_acc: 0.8941\n",
      "Epoch 43/200\n",
      "1/1 [==============================] - 2s 2s/step - loss: 0.0810 - acc: 0.8562 - val_loss: 0.0642 - val_acc: 0.8951\n",
      "Epoch 44/200\n",
      "1/1 [==============================] - 2s 2s/step - loss: 0.0808 - acc: 0.8524 - val_loss: 0.0638 - val_acc: 0.8960\n",
      "Epoch 45/200\n",
      "1/1 [==============================] - 2s 2s/step - loss: 0.0746 - acc: 0.8581 - val_loss: 0.0634 - val_acc: 0.8971\n",
      "Epoch 46/200\n",
      "1/1 [==============================] - 2s 2s/step - loss: 0.0753 - acc: 0.8581 - val_loss: 0.0630 - val_acc: 0.8977\n",
      "Epoch 47/200\n",
      "1/1 [==============================] - 2s 2s/step - loss: 0.0735 - acc: 0.8624 - val_loss: 0.0627 - val_acc: 0.8981\n",
      "Epoch 48/200\n",
      "1/1 [==============================] - 2s 2s/step - loss: 0.0754 - acc: 0.8595 - val_loss: 0.0624 - val_acc: 0.8987\n",
      "Epoch 49/200\n",
      "1/1 [==============================] - 2s 2s/step - loss: 0.0751 - acc: 0.8596 - val_loss: 0.0621 - val_acc: 0.8994\n",
      "Epoch 50/200\n",
      "1/1 [==============================] - 2s 2s/step - loss: 0.0753 - acc: 0.8630 - val_loss: 0.0618 - val_acc: 0.8997\n",
      "Epoch 51/200\n",
      "1/1 [==============================] - 2s 2s/step - loss: 0.0736 - acc: 0.8608 - val_loss: 0.0615 - val_acc: 0.9007\n",
      "Epoch 52/200\n",
      "1/1 [==============================] - 2s 2s/step - loss: 0.0717 - acc: 0.8660 - val_loss: 0.0612 - val_acc: 0.9013\n",
      "Epoch 53/200\n",
      "1/1 [==============================] - 2s 2s/step - loss: 0.0739 - acc: 0.8618 - val_loss: 0.0609 - val_acc: 0.9016\n",
      "Epoch 54/200\n",
      "1/1 [==============================] - 2s 2s/step - loss: 0.0723 - acc: 0.8643 - val_loss: 0.0606 - val_acc: 0.9015\n",
      "Epoch 55/200\n",
      "1/1 [==============================] - 2s 2s/step - loss: 0.0740 - acc: 0.8662 - val_loss: 0.0604 - val_acc: 0.9019\n",
      "Epoch 56/200\n",
      "1/1 [==============================] - 2s 2s/step - loss: 0.0709 - acc: 0.8677 - val_loss: 0.0602 - val_acc: 0.9020\n",
      "Epoch 57/200\n",
      "1/1 [==============================] - 2s 2s/step - loss: 0.0715 - acc: 0.8635 - val_loss: 0.0600 - val_acc: 0.9026\n",
      "Epoch 58/200\n",
      "1/1 [==============================] - 2s 2s/step - loss: 0.0733 - acc: 0.8637 - val_loss: 0.0598 - val_acc: 0.9028\n",
      "Epoch 59/200\n",
      "1/1 [==============================] - 2s 2s/step - loss: 0.0686 - acc: 0.8645 - val_loss: 0.0596 - val_acc: 0.9032\n",
      "Epoch 60/200\n",
      "1/1 [==============================] - 2s 2s/step - loss: 0.0692 - acc: 0.8652 - val_loss: 0.0594 - val_acc: 0.9040\n",
      "Epoch 61/200\n",
      "1/1 [==============================] - 2s 2s/step - loss: 0.0691 - acc: 0.8690 - val_loss: 0.0592 - val_acc: 0.9047\n",
      "Epoch 62/200\n",
      "1/1 [==============================] - 2s 2s/step - loss: 0.0697 - acc: 0.8684 - val_loss: 0.0591 - val_acc: 0.9052\n",
      "Epoch 63/200\n",
      "1/1 [==============================] - 2s 2s/step - loss: 0.0726 - acc: 0.8652 - val_loss: 0.0590 - val_acc: 0.9056\n",
      "Epoch 64/200\n"
     ]
    },
    {
     "name": "stdout",
     "output_type": "stream",
     "text": [
      "1/1 [==============================] - 2s 2s/step - loss: 0.0678 - acc: 0.8713 - val_loss: 0.0590 - val_acc: 0.9061\n",
      "Epoch 65/200\n",
      "1/1 [==============================] - 2s 2s/step - loss: 0.0680 - acc: 0.8687 - val_loss: 0.0589 - val_acc: 0.9067\n",
      "Epoch 66/200\n",
      "1/1 [==============================] - 2s 2s/step - loss: 0.0682 - acc: 0.8712 - val_loss: 0.0588 - val_acc: 0.9066\n",
      "Epoch 67/200\n",
      "1/1 [==============================] - 2s 2s/step - loss: 0.0677 - acc: 0.8721 - val_loss: 0.0587 - val_acc: 0.9067\n",
      "Epoch 68/200\n",
      "1/1 [==============================] - 2s 2s/step - loss: 0.0670 - acc: 0.8648 - val_loss: 0.0586 - val_acc: 0.9069\n",
      "Epoch 69/200\n",
      "1/1 [==============================] - 2s 2s/step - loss: 0.0720 - acc: 0.8664 - val_loss: 0.0585 - val_acc: 0.9073\n",
      "Epoch 70/200\n",
      "1/1 [==============================] - 2s 2s/step - loss: 0.0708 - acc: 0.8696 - val_loss: 0.0584 - val_acc: 0.9078\n",
      "Epoch 71/200\n",
      "1/1 [==============================] - 2s 2s/step - loss: 0.0682 - acc: 0.8702 - val_loss: 0.0583 - val_acc: 0.9077\n",
      "Epoch 72/200\n",
      "1/1 [==============================] - 2s 2s/step - loss: 0.0697 - acc: 0.8682 - val_loss: 0.0581 - val_acc: 0.9076\n",
      "Epoch 73/200\n",
      "1/1 [==============================] - 2s 2s/step - loss: 0.0709 - acc: 0.8636 - val_loss: 0.0580 - val_acc: 0.9080\n",
      "Epoch 74/200\n",
      "1/1 [==============================] - 2s 2s/step - loss: 0.0681 - acc: 0.8683 - val_loss: 0.0579 - val_acc: 0.9082\n",
      "Epoch 75/200\n",
      "1/1 [==============================] - 2s 2s/step - loss: 0.0714 - acc: 0.8665 - val_loss: 0.0578 - val_acc: 0.9081\n",
      "Epoch 76/200\n",
      "1/1 [==============================] - 2s 2s/step - loss: 0.0693 - acc: 0.8688 - val_loss: 0.0577 - val_acc: 0.9088\n",
      "Epoch 77/200\n",
      "1/1 [==============================] - 2s 2s/step - loss: 0.0655 - acc: 0.8749 - val_loss: 0.0577 - val_acc: 0.9089\n",
      "Epoch 78/200\n",
      "1/1 [==============================] - 2s 2s/step - loss: 0.0653 - acc: 0.8756 - val_loss: 0.0576 - val_acc: 0.9090\n",
      "Epoch 79/200\n",
      "1/1 [==============================] - 2s 2s/step - loss: 0.0680 - acc: 0.8701 - val_loss: 0.0576 - val_acc: 0.9090\n",
      "Epoch 80/200\n",
      "1/1 [==============================] - 2s 2s/step - loss: 0.0661 - acc: 0.8696 - val_loss: 0.0575 - val_acc: 0.9095\n",
      "Epoch 81/200\n",
      "1/1 [==============================] - 2s 2s/step - loss: 0.0689 - acc: 0.8698 - val_loss: 0.0574 - val_acc: 0.9094\n",
      "Epoch 82/200\n",
      "1/1 [==============================] - 2s 2s/step - loss: 0.0682 - acc: 0.8688 - val_loss: 0.0574 - val_acc: 0.9096\n",
      "Epoch 83/200\n",
      "1/1 [==============================] - 2s 2s/step - loss: 0.0690 - acc: 0.8663 - val_loss: 0.0573 - val_acc: 0.9099\n",
      "Epoch 84/200\n",
      "1/1 [==============================] - 2s 2s/step - loss: 0.0652 - acc: 0.8777 - val_loss: 0.0573 - val_acc: 0.9102\n",
      "Epoch 85/200\n",
      "1/1 [==============================] - 2s 2s/step - loss: 0.0650 - acc: 0.8712 - val_loss: 0.0572 - val_acc: 0.9102\n",
      "Epoch 86/200\n",
      "1/1 [==============================] - 2s 2s/step - loss: 0.0680 - acc: 0.8700 - val_loss: 0.0572 - val_acc: 0.9099\n",
      "Epoch 87/200\n",
      "1/1 [==============================] - 2s 2s/step - loss: 0.0671 - acc: 0.8737 - val_loss: 0.0571 - val_acc: 0.9099\n",
      "Epoch 88/200\n",
      "1/1 [==============================] - 2s 2s/step - loss: 0.0679 - acc: 0.8716 - val_loss: 0.0570 - val_acc: 0.9097\n",
      "Epoch 89/200\n",
      "1/1 [==============================] - 2s 2s/step - loss: 0.0661 - acc: 0.8702 - val_loss: 0.0570 - val_acc: 0.9097\n",
      "Epoch 90/200\n",
      "1/1 [==============================] - 2s 2s/step - loss: 0.0654 - acc: 0.8694 - val_loss: 0.0569 - val_acc: 0.9097\n",
      "Epoch 91/200\n",
      "1/1 [==============================] - 2s 2s/step - loss: 0.0656 - acc: 0.8696 - val_loss: 0.0568 - val_acc: 0.9101\n",
      "Epoch 92/200\n",
      "1/1 [==============================] - 2s 2s/step - loss: 0.0678 - acc: 0.8718 - val_loss: 0.0568 - val_acc: 0.9101\n",
      "Epoch 93/200\n",
      "1/1 [==============================] - 2s 2s/step - loss: 0.0660 - acc: 0.8750 - val_loss: 0.0568 - val_acc: 0.9103\n",
      "Epoch 94/200\n",
      "1/1 [==============================] - 2s 2s/step - loss: 0.0676 - acc: 0.8698 - val_loss: 0.0568 - val_acc: 0.9103\n",
      "Epoch 95/200\n",
      "1/1 [==============================] - 2s 2s/step - loss: 0.0637 - acc: 0.8737 - val_loss: 0.0567 - val_acc: 0.9106\n",
      "Epoch 96/200\n",
      "1/1 [==============================] - 2s 2s/step - loss: 0.0674 - acc: 0.8721 - val_loss: 0.0567 - val_acc: 0.9111\n",
      "Epoch 97/200\n",
      "1/1 [==============================] - 2s 2s/step - loss: 0.0658 - acc: 0.8753 - val_loss: 0.0566 - val_acc: 0.9114\n",
      "Epoch 98/200\n",
      "1/1 [==============================] - 2s 2s/step - loss: 0.0667 - acc: 0.8737 - val_loss: 0.0565 - val_acc: 0.9109\n",
      "Epoch 99/200\n",
      "1/1 [==============================] - 2s 2s/step - loss: 0.0652 - acc: 0.8692 - val_loss: 0.0565 - val_acc: 0.9108\n",
      "Epoch 100/200\n",
      "1/1 [==============================] - 2s 2s/step - loss: 0.0643 - acc: 0.8726 - val_loss: 0.0565 - val_acc: 0.9104\n",
      "Epoch 101/200\n",
      "1/1 [==============================] - 2s 2s/step - loss: 0.0693 - acc: 0.8723 - val_loss: 0.0565 - val_acc: 0.9103\n",
      "Epoch 102/200\n",
      "1/1 [==============================] - 2s 2s/step - loss: 0.0669 - acc: 0.8757 - val_loss: 0.0565 - val_acc: 0.9105\n",
      "Epoch 103/200\n",
      "1/1 [==============================] - 2s 2s/step - loss: 0.0685 - acc: 0.8756 - val_loss: 0.0565 - val_acc: 0.9108\n",
      "Epoch 104/200\n",
      "1/1 [==============================] - 2s 2s/step - loss: 0.0652 - acc: 0.8741 - val_loss: 0.0564 - val_acc: 0.9106\n",
      "Epoch 105/200\n",
      "1/1 [==============================] - 2s 2s/step - loss: 0.0648 - acc: 0.8751 - val_loss: 0.0564 - val_acc: 0.9106\n",
      "Epoch 106/200\n",
      "1/1 [==============================] - 2s 2s/step - loss: 0.0673 - acc: 0.8753 - val_loss: 0.0563 - val_acc: 0.9107\n",
      "Epoch 107/200\n",
      "1/1 [==============================] - 2s 2s/step - loss: 0.0659 - acc: 0.8731 - val_loss: 0.0562 - val_acc: 0.9109\n",
      "Epoch 108/200\n",
      "1/1 [==============================] - 2s 2s/step - loss: 0.0644 - acc: 0.8756 - val_loss: 0.0561 - val_acc: 0.9111\n",
      "Epoch 109/200\n",
      "1/1 [==============================] - 2s 2s/step - loss: 0.0641 - acc: 0.8745 - val_loss: 0.0560 - val_acc: 0.9111\n",
      "Epoch 110/200\n",
      "1/1 [==============================] - 2s 2s/step - loss: 0.0648 - acc: 0.8726 - val_loss: 0.0559 - val_acc: 0.9108\n",
      "Epoch 111/200\n",
      "1/1 [==============================] - 2s 2s/step - loss: 0.0662 - acc: 0.8700 - val_loss: 0.0559 - val_acc: 0.9110\n",
      "Epoch 112/200\n",
      "1/1 [==============================] - 2s 2s/step - loss: 0.0645 - acc: 0.8737 - val_loss: 0.0558 - val_acc: 0.9113\n",
      "Epoch 113/200\n",
      "1/1 [==============================] - 2s 2s/step - loss: 0.0654 - acc: 0.8720 - val_loss: 0.0558 - val_acc: 0.9111\n",
      "Epoch 114/200\n",
      "1/1 [==============================] - 2s 2s/step - loss: 0.0638 - acc: 0.8715 - val_loss: 0.0558 - val_acc: 0.9112\n",
      "Epoch 115/200\n",
      "1/1 [==============================] - 2s 2s/step - loss: 0.0652 - acc: 0.8785 - val_loss: 0.0558 - val_acc: 0.9117\n",
      "Epoch 116/200\n",
      "1/1 [==============================] - 2s 2s/step - loss: 0.0654 - acc: 0.8753 - val_loss: 0.0557 - val_acc: 0.9121\n",
      "Epoch 117/200\n",
      "1/1 [==============================] - 2s 2s/step - loss: 0.0655 - acc: 0.8741 - val_loss: 0.0557 - val_acc: 0.9127\n",
      "Epoch 118/200\n",
      "1/1 [==============================] - 2s 2s/step - loss: 0.0652 - acc: 0.8713 - val_loss: 0.0557 - val_acc: 0.9126\n",
      "Epoch 119/200\n",
      "1/1 [==============================] - 2s 2s/step - loss: 0.0631 - acc: 0.8734 - val_loss: 0.0556 - val_acc: 0.9126\n",
      "Epoch 120/200\n",
      "1/1 [==============================] - 2s 2s/step - loss: 0.0650 - acc: 0.8761 - val_loss: 0.0556 - val_acc: 0.9125\n",
      "Epoch 121/200\n",
      "1/1 [==============================] - 2s 2s/step - loss: 0.0664 - acc: 0.8681 - val_loss: 0.0556 - val_acc: 0.9124\n",
      "Epoch 122/200\n",
      "1/1 [==============================] - 2s 2s/step - loss: 0.0640 - acc: 0.8790 - val_loss: 0.0556 - val_acc: 0.9124\n",
      "Epoch 123/200\n",
      "1/1 [==============================] - 2s 2s/step - loss: 0.0638 - acc: 0.8782 - val_loss: 0.0556 - val_acc: 0.9123\n",
      "Epoch 124/200\n",
      "1/1 [==============================] - 2s 2s/step - loss: 0.0648 - acc: 0.8734 - val_loss: 0.0556 - val_acc: 0.9121\n",
      "Epoch 125/200\n",
      "1/1 [==============================] - 2s 2s/step - loss: 0.0677 - acc: 0.8691 - val_loss: 0.0557 - val_acc: 0.9117\n",
      "Epoch 126/200\n",
      "1/1 [==============================] - 2s 2s/step - loss: 0.0639 - acc: 0.8761 - val_loss: 0.0558 - val_acc: 0.9118\n",
      "Epoch 127/200\n"
     ]
    },
    {
     "name": "stdout",
     "output_type": "stream",
     "text": [
      "1/1 [==============================] - 2s 2s/step - loss: 0.0633 - acc: 0.8780 - val_loss: 0.0559 - val_acc: 0.9117\n",
      "Epoch 128/200\n",
      "1/1 [==============================] - 2s 2s/step - loss: 0.0654 - acc: 0.8737 - val_loss: 0.0559 - val_acc: 0.9113\n",
      "Epoch 129/200\n",
      "1/1 [==============================] - 2s 2s/step - loss: 0.0640 - acc: 0.8722 - val_loss: 0.0559 - val_acc: 0.9118\n",
      "Epoch 130/200\n",
      "1/1 [==============================] - 2s 2s/step - loss: 0.0655 - acc: 0.8780 - val_loss: 0.0559 - val_acc: 0.9119\n",
      "Epoch 131/200\n",
      "1/1 [==============================] - 2s 2s/step - loss: 0.0654 - acc: 0.8726 - val_loss: 0.0559 - val_acc: 0.9125\n",
      "Epoch 132/200\n",
      "1/1 [==============================] - 2s 2s/step - loss: 0.0682 - acc: 0.8733 - val_loss: 0.0559 - val_acc: 0.9127\n",
      "Epoch 133/200\n",
      "1/1 [==============================] - 2s 2s/step - loss: 0.0649 - acc: 0.8709 - val_loss: 0.0559 - val_acc: 0.9124\n",
      "Epoch 134/200\n",
      "1/1 [==============================] - 2s 2s/step - loss: 0.0629 - acc: 0.8749 - val_loss: 0.0559 - val_acc: 0.9125\n",
      "Epoch 135/200\n",
      "1/1 [==============================] - 2s 2s/step - loss: 0.0648 - acc: 0.8731 - val_loss: 0.0558 - val_acc: 0.9126\n",
      "Epoch 136/200\n",
      "1/1 [==============================] - 2s 2s/step - loss: 0.0636 - acc: 0.8754 - val_loss: 0.0556 - val_acc: 0.9126\n",
      "Epoch 137/200\n",
      "1/1 [==============================] - 2s 2s/step - loss: 0.0657 - acc: 0.8777 - val_loss: 0.0555 - val_acc: 0.9132\n",
      "Epoch 138/200\n",
      "1/1 [==============================] - 2s 2s/step - loss: 0.0641 - acc: 0.8704 - val_loss: 0.0554 - val_acc: 0.9137\n",
      "Epoch 139/200\n",
      "1/1 [==============================] - 2s 2s/step - loss: 0.0623 - acc: 0.8774 - val_loss: 0.0553 - val_acc: 0.9138\n",
      "Epoch 140/200\n",
      "1/1 [==============================] - 2s 2s/step - loss: 0.0642 - acc: 0.8696 - val_loss: 0.0553 - val_acc: 0.9137\n",
      "Epoch 141/200\n",
      "1/1 [==============================] - 2s 2s/step - loss: 0.0643 - acc: 0.8737 - val_loss: 0.0552 - val_acc: 0.9139\n",
      "Epoch 142/200\n",
      "1/1 [==============================] - 2s 2s/step - loss: 0.0631 - acc: 0.8716 - val_loss: 0.0551 - val_acc: 0.9134\n",
      "Epoch 143/200\n",
      "1/1 [==============================] - 2s 2s/step - loss: 0.0624 - acc: 0.8789 - val_loss: 0.0551 - val_acc: 0.9133\n",
      "Epoch 144/200\n",
      "1/1 [==============================] - 2s 2s/step - loss: 0.0648 - acc: 0.8783 - val_loss: 0.0550 - val_acc: 0.9134\n",
      "Epoch 145/200\n",
      "1/1 [==============================] - 2s 2s/step - loss: 0.0634 - acc: 0.8755 - val_loss: 0.0550 - val_acc: 0.9130\n",
      "Epoch 146/200\n",
      "1/1 [==============================] - 2s 2s/step - loss: 0.0625 - acc: 0.8727 - val_loss: 0.0549 - val_acc: 0.9130\n",
      "Epoch 147/200\n",
      "1/1 [==============================] - 2s 2s/step - loss: 0.0633 - acc: 0.8765 - val_loss: 0.0549 - val_acc: 0.9132\n",
      "Epoch 148/200\n",
      "1/1 [==============================] - 2s 2s/step - loss: 0.0638 - acc: 0.8781 - val_loss: 0.0549 - val_acc: 0.9135\n",
      "Epoch 149/200\n",
      "1/1 [==============================] - 2s 2s/step - loss: 0.0618 - acc: 0.8744 - val_loss: 0.0549 - val_acc: 0.9133\n",
      "Epoch 150/200\n",
      "1/1 [==============================] - 2s 2s/step - loss: 0.0644 - acc: 0.8776 - val_loss: 0.0549 - val_acc: 0.9135\n",
      "Epoch 151/200\n",
      "1/1 [==============================] - 2s 2s/step - loss: 0.0648 - acc: 0.8751 - val_loss: 0.0548 - val_acc: 0.9133\n",
      "Epoch 152/200\n",
      "1/1 [==============================] - 2s 2s/step - loss: 0.0637 - acc: 0.8741 - val_loss: 0.0548 - val_acc: 0.9134\n",
      "Epoch 153/200\n",
      "1/1 [==============================] - 2s 2s/step - loss: 0.0645 - acc: 0.8745 - val_loss: 0.0548 - val_acc: 0.9140\n",
      "Epoch 154/200\n",
      "1/1 [==============================] - 2s 2s/step - loss: 0.0619 - acc: 0.8789 - val_loss: 0.0548 - val_acc: 0.9139\n",
      "Epoch 155/200\n",
      "1/1 [==============================] - 2s 2s/step - loss: 0.0624 - acc: 0.8781 - val_loss: 0.0548 - val_acc: 0.9144\n",
      "Epoch 156/200\n",
      "1/1 [==============================] - 2s 2s/step - loss: 0.0649 - acc: 0.8761 - val_loss: 0.0548 - val_acc: 0.9140\n",
      "Epoch 157/200\n",
      "1/1 [==============================] - 2s 2s/step - loss: 0.0624 - acc: 0.8765 - val_loss: 0.0547 - val_acc: 0.9140\n",
      "Epoch 158/200\n",
      "1/1 [==============================] - 2s 2s/step - loss: 0.0657 - acc: 0.8728 - val_loss: 0.0547 - val_acc: 0.9140\n",
      "Epoch 159/200\n",
      "1/1 [==============================] - 2s 2s/step - loss: 0.0632 - acc: 0.8789 - val_loss: 0.0547 - val_acc: 0.9139\n",
      "Epoch 160/200\n",
      "1/1 [==============================] - 2s 2s/step - loss: 0.0615 - acc: 0.8778 - val_loss: 0.0547 - val_acc: 0.9139\n",
      "Epoch 161/200\n",
      "1/1 [==============================] - 2s 2s/step - loss: 0.0627 - acc: 0.8768 - val_loss: 0.0546 - val_acc: 0.9138\n",
      "Epoch 162/200\n",
      "1/1 [==============================] - 2s 2s/step - loss: 0.0638 - acc: 0.8735 - val_loss: 0.0546 - val_acc: 0.9138\n",
      "Epoch 163/200\n",
      "1/1 [==============================] - 2s 2s/step - loss: 0.0621 - acc: 0.8759 - val_loss: 0.0546 - val_acc: 0.9141\n",
      "Epoch 164/200\n",
      "1/1 [==============================] - 2s 2s/step - loss: 0.0595 - acc: 0.8785 - val_loss: 0.0546 - val_acc: 0.9142\n",
      "Epoch 165/200\n",
      "1/1 [==============================] - 2s 2s/step - loss: 0.0638 - acc: 0.8742 - val_loss: 0.0546 - val_acc: 0.9140\n",
      "Epoch 166/200\n",
      "1/1 [==============================] - 2s 2s/step - loss: 0.0629 - acc: 0.8770 - val_loss: 0.0546 - val_acc: 0.9135\n",
      "Epoch 167/200\n",
      "1/1 [==============================] - 2s 2s/step - loss: 0.0646 - acc: 0.8698 - val_loss: 0.0545 - val_acc: 0.9138\n",
      "Epoch 168/200\n",
      "1/1 [==============================] - 3s 3s/step - loss: 0.0650 - acc: 0.8751 - val_loss: 0.0545 - val_acc: 0.9133\n",
      "Epoch 169/200\n",
      "1/1 [==============================] - 3s 3s/step - loss: 0.0648 - acc: 0.8717 - val_loss: 0.0545 - val_acc: 0.9132\n",
      "Epoch 170/200\n",
      "1/1 [==============================] - 2s 2s/step - loss: 0.0628 - acc: 0.8760 - val_loss: 0.0545 - val_acc: 0.9134\n",
      "Epoch 171/200\n",
      "1/1 [==============================] - 2s 2s/step - loss: 0.0646 - acc: 0.8725 - val_loss: 0.0544 - val_acc: 0.9137\n",
      "Epoch 172/200\n",
      "1/1 [==============================] - 2s 2s/step - loss: 0.0611 - acc: 0.8752 - val_loss: 0.0544 - val_acc: 0.9138\n",
      "Epoch 173/200\n",
      "1/1 [==============================] - 2s 2s/step - loss: 0.0630 - acc: 0.8806 - val_loss: 0.0545 - val_acc: 0.9137\n",
      "Epoch 174/200\n",
      "1/1 [==============================] - 2s 2s/step - loss: 0.0607 - acc: 0.8771 - val_loss: 0.0545 - val_acc: 0.9140\n",
      "Epoch 175/200\n",
      "1/1 [==============================] - 2s 2s/step - loss: 0.0624 - acc: 0.8732 - val_loss: 0.0545 - val_acc: 0.9143\n",
      "Epoch 176/200\n",
      "1/1 [==============================] - 2s 2s/step - loss: 0.0617 - acc: 0.8801 - val_loss: 0.0545 - val_acc: 0.9143\n",
      "Epoch 177/200\n",
      "1/1 [==============================] - 2s 2s/step - loss: 0.0613 - acc: 0.8755 - val_loss: 0.0545 - val_acc: 0.9146\n",
      "Epoch 178/200\n",
      "1/1 [==============================] - 2s 2s/step - loss: 0.0598 - acc: 0.8787 - val_loss: 0.0545 - val_acc: 0.9149\n",
      "Epoch 179/200\n",
      "1/1 [==============================] - 2s 2s/step - loss: 0.0616 - acc: 0.8819 - val_loss: 0.0545 - val_acc: 0.9153\n",
      "Epoch 180/200\n",
      "1/1 [==============================] - 2s 2s/step - loss: 0.0629 - acc: 0.8783 - val_loss: 0.0544 - val_acc: 0.9152\n",
      "Epoch 181/200\n",
      "1/1 [==============================] - 2s 2s/step - loss: 0.0630 - acc: 0.8766 - val_loss: 0.0543 - val_acc: 0.9150\n",
      "Epoch 182/200\n",
      "1/1 [==============================] - 2s 2s/step - loss: 0.0622 - acc: 0.8810 - val_loss: 0.0542 - val_acc: 0.9146\n",
      "Epoch 183/200\n",
      "1/1 [==============================] - 2s 2s/step - loss: 0.0623 - acc: 0.8792 - val_loss: 0.0541 - val_acc: 0.9149\n",
      "Epoch 184/200\n",
      "1/1 [==============================] - 2s 2s/step - loss: 0.0623 - acc: 0.8757 - val_loss: 0.0541 - val_acc: 0.9149\n",
      "Epoch 185/200\n",
      "1/1 [==============================] - 2s 2s/step - loss: 0.0633 - acc: 0.8752 - val_loss: 0.0540 - val_acc: 0.9150\n",
      "Epoch 186/200\n",
      "1/1 [==============================] - 2s 2s/step - loss: 0.0641 - acc: 0.8729 - val_loss: 0.0540 - val_acc: 0.9151\n",
      "Epoch 187/200\n",
      "1/1 [==============================] - 2s 2s/step - loss: 0.0655 - acc: 0.8755 - val_loss: 0.0540 - val_acc: 0.9154\n",
      "Epoch 188/200\n",
      "1/1 [==============================] - 2s 2s/step - loss: 0.0613 - acc: 0.8803 - val_loss: 0.0540 - val_acc: 0.9149\n",
      "Epoch 189/200\n",
      "1/1 [==============================] - 2s 2s/step - loss: 0.0622 - acc: 0.8774 - val_loss: 0.0541 - val_acc: 0.9149\n",
      "Epoch 190/200\n"
     ]
    },
    {
     "name": "stdout",
     "output_type": "stream",
     "text": [
      "1/1 [==============================] - 2s 2s/step - loss: 0.0634 - acc: 0.8761 - val_loss: 0.0541 - val_acc: 0.9150\n",
      "Epoch 191/200\n",
      "1/1 [==============================] - 2s 2s/step - loss: 0.0601 - acc: 0.8774 - val_loss: 0.0541 - val_acc: 0.9149\n",
      "Epoch 192/200\n",
      "1/1 [==============================] - 2s 2s/step - loss: 0.0633 - acc: 0.8813 - val_loss: 0.0541 - val_acc: 0.9145\n",
      "Epoch 193/200\n",
      "1/1 [==============================] - 1s 1s/step - loss: 0.0627 - acc: 0.8786 - val_loss: 0.0540 - val_acc: 0.9140\n",
      "Epoch 194/200\n",
      "1/1 [==============================] - 1s 1s/step - loss: 0.0630 - acc: 0.8752 - val_loss: 0.0539 - val_acc: 0.9136\n",
      "Epoch 195/200\n",
      "1/1 [==============================] - 2s 2s/step - loss: 0.0624 - acc: 0.8773 - val_loss: 0.0538 - val_acc: 0.9134\n",
      "Epoch 196/200\n",
      "1/1 [==============================] - 2s 2s/step - loss: 0.0619 - acc: 0.8780 - val_loss: 0.0538 - val_acc: 0.9137\n",
      "Epoch 197/200\n",
      "1/1 [==============================] - 2s 2s/step - loss: 0.0599 - acc: 0.8749 - val_loss: 0.0538 - val_acc: 0.9135\n",
      "Epoch 198/200\n",
      "1/1 [==============================] - 1s 1s/step - loss: 0.0612 - acc: 0.8757 - val_loss: 0.0538 - val_acc: 0.9134\n",
      "Epoch 199/200\n",
      "1/1 [==============================] - 1s 1s/step - loss: 0.0628 - acc: 0.8772 - val_loss: 0.0538 - val_acc: 0.9134\n",
      "Epoch 200/200\n",
      "1/1 [==============================] - 1s 1s/step - loss: 0.0655 - acc: 0.8718 - val_loss: 0.0538 - val_acc: 0.9138\n"
     ]
    }
   ],
   "source": [
    "# Train\n",
    "validation_data = ([X_features, A], encoded_labels, val_mask)\n",
    "    \n",
    "history = model.fit([X_features, A], \n",
    "              encoded_labels,\n",
    "             sample_weight = train_mask,\n",
    "             epochs = epochs,\n",
    "             batch_size = num_nodes,\n",
    "             validation_data = validation_data,\n",
    "              shuffle = False)\n",
    "    "
   ]
  },
  {
   "cell_type": "markdown",
   "id": "cf6a0bc3",
   "metadata": {},
   "source": [
    "## Results"
   ]
  },
  {
   "cell_type": "markdown",
   "id": "2010e4db",
   "metadata": {},
   "source": [
    "Plot Accuracy and Loss Comparison"
   ]
  },
  {
   "cell_type": "code",
   "execution_count": 22,
   "id": "5b4d21c9",
   "metadata": {},
   "outputs": [
    {
     "data": {
      "image/png": "[encoded data removed]",
      "text/plain": [
       "<Figure size 432x288 with 1 Axes>"
      ]
     },
     "metadata": {
      "needs_background": "light"
     },
     "output_type": "display_data"
    }
   ],
   "source": [
    "plt.plot(history.history.get('acc'))\n",
    "plt.plot(history.history.get('val_acc'))\n",
    "\n",
    "plt.title('Accuracy')\n",
    "plt.ylabel('Accuracy')\n",
    "plt.xlabel('Epochs')\n",
    "plt.legend(['Train', 'Test'])\n",
    "\n",
    "plt.savefig(\"model accuracy.jpeg\")\n",
    "plt.show()"
   ]
  },
  {
   "cell_type": "code",
   "execution_count": 23,
   "id": "2550274b",
   "metadata": {},
   "outputs": [
    {
     "data": {
      "image/png": "[encoded data removed]",
      "text/plain": [
       "<Figure size 432x288 with 1 Axes>"
      ]
     },
     "metadata": {
      "needs_background": "light"
     },
     "output_type": "display_data"
    }
   ],
   "source": [
    "plt.plot(history.history.get('loss'))\n",
    "plt.plot(history.history.get('val_loss'))\n",
    "\n",
    "plt.title('Loss')\n",
    "plt.ylabel('Loss')\n",
    "plt.xlabel('Epochs')\n",
    "plt.legend(['Train', 'Test'])\n",
    "\n",
    "plt.savefig(\"model loss.jpeg\")\n",
    "plt.show()"
   ]
  },
  {
   "cell_type": "code",
   "execution_count": 31,
   "id": "40049904",
   "metadata": {},
   "outputs": [
    {
     "ename": "TypeError",
     "evalue": "object of type 'numpy.int64' has no len()",
     "output_type": "error",
     "traceback": [
      "\u001b[0;31m---------------------------------------------------------------------------\u001b[0m",
      "\u001b[0;31mTypeError\u001b[0m                                 Traceback (most recent call last)",
      "\u001b[0;32m<ipython-input-31-63198db8c1dd>\u001b[0m in \u001b[0;36m<module>\u001b[0;34m\u001b[0m\n\u001b[1;32m      6\u001b[0m \u001b[0my_predictions\u001b[0m \u001b[0;34m=\u001b[0m \u001b[0mmodel\u001b[0m\u001b[0;34m.\u001b[0m\u001b[0mpredict\u001b[0m\u001b[0;34m(\u001b[0m\u001b[0;34m[\u001b[0m\u001b[0mX_features\u001b[0m\u001b[0;34m,\u001b[0m \u001b[0mA\u001b[0m\u001b[0;34m]\u001b[0m\u001b[0;34m,\u001b[0m \u001b[0mbatch_size\u001b[0m \u001b[0;34m=\u001b[0m \u001b[0mnum_nodes\u001b[0m\u001b[0;34m)\u001b[0m\u001b[0;34m\u001b[0m\u001b[0;34m\u001b[0m\u001b[0m\n\u001b[1;32m      7\u001b[0m \u001b[0;34m\u001b[0m\u001b[0m\n\u001b[0;32m----> 8\u001b[0;31m \u001b[0mreport\u001b[0m \u001b[0;34m=\u001b[0m \u001b[0mclassification_report\u001b[0m\u001b[0;34m(\u001b[0m\u001b[0mnp\u001b[0m\u001b[0;34m.\u001b[0m\u001b[0margmax\u001b[0m\u001b[0;34m(\u001b[0m\u001b[0my_test\u001b[0m\u001b[0;34m,\u001b[0m \u001b[0maxis\u001b[0m\u001b[0;34m=\u001b[0m\u001b[0;36m1\u001b[0m\u001b[0;34m)\u001b[0m\u001b[0;34m,\u001b[0m \u001b[0mnp\u001b[0m\u001b[0;34m.\u001b[0m\u001b[0margmax\u001b[0m\u001b[0;34m(\u001b[0m\u001b[0my_predictions\u001b[0m\u001b[0;34m[\u001b[0m\u001b[0mtest_mask\u001b[0m\u001b[0;34m]\u001b[0m\u001b[0;34m,\u001b[0m\u001b[0maxis\u001b[0m\u001b[0;34m=\u001b[0m\u001b[0;36m1\u001b[0m\u001b[0;34m)\u001b[0m\u001b[0;34m,\u001b[0m \u001b[0mtarget_names\u001b[0m \u001b[0;34m=\u001b[0m \u001b[0mclasses\u001b[0m\u001b[0;34m)\u001b[0m\u001b[0;34m\u001b[0m\u001b[0;34m\u001b[0m\u001b[0m\n\u001b[0m\u001b[1;32m      9\u001b[0m \u001b[0;31m#f1 = f1_score(np.argmax(y_test, axis=1), np.argmax(y_predictions[test_mask]))\u001b[0m\u001b[0;34m\u001b[0m\u001b[0;34m\u001b[0m\u001b[0;34m\u001b[0m\u001b[0m\n",
      "\u001b[0;32m~/opt/anaconda3/envs/s4580737/lib/python3.9/site-packages/sklearn/utils/validation.py\u001b[0m in \u001b[0;36minner_f\u001b[0;34m(*args, **kwargs)\u001b[0m\n\u001b[1;32m     61\u001b[0m             \u001b[0mextra_args\u001b[0m \u001b[0;34m=\u001b[0m \u001b[0mlen\u001b[0m\u001b[0;34m(\u001b[0m\u001b[0margs\u001b[0m\u001b[0;34m)\u001b[0m \u001b[0;34m-\u001b[0m \u001b[0mlen\u001b[0m\u001b[0;34m(\u001b[0m\u001b[0mall_args\u001b[0m\u001b[0;34m)\u001b[0m\u001b[0;34m\u001b[0m\u001b[0;34m\u001b[0m\u001b[0m\n\u001b[1;32m     62\u001b[0m             \u001b[0;32mif\u001b[0m \u001b[0mextra_args\u001b[0m \u001b[0;34m<=\u001b[0m \u001b[0;36m0\u001b[0m\u001b[0;34m:\u001b[0m\u001b[0;34m\u001b[0m\u001b[0;34m\u001b[0m\u001b[0m\n\u001b[0;32m---> 63\u001b[0;31m                 \u001b[0;32mreturn\u001b[0m \u001b[0mf\u001b[0m\u001b[0;34m(\u001b[0m\u001b[0;34m*\u001b[0m\u001b[0margs\u001b[0m\u001b[0;34m,\u001b[0m \u001b[0;34m**\u001b[0m\u001b[0mkwargs\u001b[0m\u001b[0;34m)\u001b[0m\u001b[0;34m\u001b[0m\u001b[0;34m\u001b[0m\u001b[0m\n\u001b[0m\u001b[1;32m     64\u001b[0m \u001b[0;34m\u001b[0m\u001b[0m\n\u001b[1;32m     65\u001b[0m             \u001b[0;31m# extra_args > 0\u001b[0m\u001b[0;34m\u001b[0m\u001b[0;34m\u001b[0m\u001b[0;34m\u001b[0m\u001b[0m\n",
      "\u001b[0;32m~/opt/anaconda3/envs/s4580737/lib/python3.9/site-packages/sklearn/metrics/_classification.py\u001b[0m in \u001b[0;36mclassification_report\u001b[0;34m(y_true, y_pred, labels, target_names, sample_weight, digits, output_dict, zero_division)\u001b[0m\n\u001b[1;32m   2018\u001b[0m     \u001b[0;32melse\u001b[0m\u001b[0;34m:\u001b[0m\u001b[0;34m\u001b[0m\u001b[0;34m\u001b[0m\u001b[0m\n\u001b[1;32m   2019\u001b[0m         \u001b[0mlongest_last_line_heading\u001b[0m \u001b[0;34m=\u001b[0m \u001b[0;34m'weighted avg'\u001b[0m\u001b[0;34m\u001b[0m\u001b[0;34m\u001b[0m\u001b[0m\n\u001b[0;32m-> 2020\u001b[0;31m         \u001b[0mname_width\u001b[0m \u001b[0;34m=\u001b[0m \u001b[0mmax\u001b[0m\u001b[0;34m(\u001b[0m\u001b[0mlen\u001b[0m\u001b[0;34m(\u001b[0m\u001b[0mcn\u001b[0m\u001b[0;34m)\u001b[0m \u001b[0;32mfor\u001b[0m \u001b[0mcn\u001b[0m \u001b[0;32min\u001b[0m \u001b[0mtarget_names\u001b[0m\u001b[0;34m)\u001b[0m\u001b[0;34m\u001b[0m\u001b[0;34m\u001b[0m\u001b[0m\n\u001b[0m\u001b[1;32m   2021\u001b[0m         \u001b[0mwidth\u001b[0m \u001b[0;34m=\u001b[0m \u001b[0mmax\u001b[0m\u001b[0;34m(\u001b[0m\u001b[0mname_width\u001b[0m\u001b[0;34m,\u001b[0m \u001b[0mlen\u001b[0m\u001b[0;34m(\u001b[0m\u001b[0mlongest_last_line_heading\u001b[0m\u001b[0;34m)\u001b[0m\u001b[0;34m,\u001b[0m \u001b[0mdigits\u001b[0m\u001b[0;34m)\u001b[0m\u001b[0;34m\u001b[0m\u001b[0;34m\u001b[0m\u001b[0m\n\u001b[1;32m   2022\u001b[0m         \u001b[0mhead_fmt\u001b[0m \u001b[0;34m=\u001b[0m \u001b[0;34m'{:>{width}s} '\u001b[0m \u001b[0;34m+\u001b[0m \u001b[0;34m' {:>9}'\u001b[0m \u001b[0;34m*\u001b[0m \u001b[0mlen\u001b[0m\u001b[0;34m(\u001b[0m\u001b[0mheaders\u001b[0m\u001b[0;34m)\u001b[0m\u001b[0;34m\u001b[0m\u001b[0;34m\u001b[0m\u001b[0m\n",
      "\u001b[0;32m~/opt/anaconda3/envs/s4580737/lib/python3.9/site-packages/sklearn/metrics/_classification.py\u001b[0m in \u001b[0;36m<genexpr>\u001b[0;34m(.0)\u001b[0m\n\u001b[1;32m   2018\u001b[0m     \u001b[0;32melse\u001b[0m\u001b[0;34m:\u001b[0m\u001b[0;34m\u001b[0m\u001b[0;34m\u001b[0m\u001b[0m\n\u001b[1;32m   2019\u001b[0m         \u001b[0mlongest_last_line_heading\u001b[0m \u001b[0;34m=\u001b[0m \u001b[0;34m'weighted avg'\u001b[0m\u001b[0;34m\u001b[0m\u001b[0;34m\u001b[0m\u001b[0m\n\u001b[0;32m-> 2020\u001b[0;31m         \u001b[0mname_width\u001b[0m \u001b[0;34m=\u001b[0m \u001b[0mmax\u001b[0m\u001b[0;34m(\u001b[0m\u001b[0mlen\u001b[0m\u001b[0;34m(\u001b[0m\u001b[0mcn\u001b[0m\u001b[0;34m)\u001b[0m \u001b[0;32mfor\u001b[0m \u001b[0mcn\u001b[0m \u001b[0;32min\u001b[0m \u001b[0mtarget_names\u001b[0m\u001b[0;34m)\u001b[0m\u001b[0;34m\u001b[0m\u001b[0;34m\u001b[0m\u001b[0m\n\u001b[0m\u001b[1;32m   2021\u001b[0m         \u001b[0mwidth\u001b[0m \u001b[0;34m=\u001b[0m \u001b[0mmax\u001b[0m\u001b[0;34m(\u001b[0m\u001b[0mname_width\u001b[0m\u001b[0;34m,\u001b[0m \u001b[0mlen\u001b[0m\u001b[0;34m(\u001b[0m\u001b[0mlongest_last_line_heading\u001b[0m\u001b[0;34m)\u001b[0m\u001b[0;34m,\u001b[0m \u001b[0mdigits\u001b[0m\u001b[0;34m)\u001b[0m\u001b[0;34m\u001b[0m\u001b[0;34m\u001b[0m\u001b[0m\n\u001b[1;32m   2022\u001b[0m         \u001b[0mhead_fmt\u001b[0m \u001b[0;34m=\u001b[0m \u001b[0;34m'{:>{width}s} '\u001b[0m \u001b[0;34m+\u001b[0m \u001b[0;34m' {:>9}'\u001b[0m \u001b[0;34m*\u001b[0m \u001b[0mlen\u001b[0m\u001b[0;34m(\u001b[0m\u001b[0mheaders\u001b[0m\u001b[0;34m)\u001b[0m\u001b[0;34m\u001b[0m\u001b[0;34m\u001b[0m\u001b[0m\n",
      "\u001b[0;31mTypeError\u001b[0m: object of type 'numpy.int64' has no len()"
     ]
    }
   ],
   "source": [
    "#X_test = X_features[test_mask]\n",
    "#A_test = A[test_mask, :][:,test_mask]\n",
    "y_test = encoded_labels[test_mask]\n",
    "\n",
    "# Evaluation\n",
    "y_predictions = model.predict([X_features, A], batch_size = num_nodes)\n",
    "\n",
    "report = classification_report(np.argmax(y_test, axis=1), np.argmax(y_predictions[test_mask],axis=1), target_names = classes)\n",
    "#f1 = f1_score(np.argmax(y_test, axis=1), np.argmax(y_predictions[test_mask]))\n"
   ]
  },
  {
   "cell_type": "markdown",
   "id": "523e5bda",
   "metadata": {},
   "source": [
    "## TSNE Plot"
   ]
  },
  {
   "cell_type": "markdown",
   "id": "b8849842",
   "metadata": {},
   "source": [
    "Each point is a node representing the facebook page. The colours represent the four possible categories."
   ]
  },
  {
   "cell_type": "code",
   "execution_count": 32,
   "id": "9f669a53",
   "metadata": {},
   "outputs": [
    {
     "ename": "NameError",
     "evalue": "name 'encoder' is not defined",
     "output_type": "error",
     "traceback": [
      "\u001b[0;31m---------------------------------------------------------------------------\u001b[0m",
      "\u001b[0;31mNameError\u001b[0m                                 Traceback (most recent call last)",
      "\u001b[0;32m<ipython-input-32-680daf8c5ef9>\u001b[0m in \u001b[0;36m<module>\u001b[0;34m\u001b[0m\n\u001b[1;32m      8\u001b[0m \u001b[0;32mfor\u001b[0m \u001b[0mclass_\u001b[0m \u001b[0;32min\u001b[0m \u001b[0mrange\u001b[0m\u001b[0;34m(\u001b[0m\u001b[0mnum_classes\u001b[0m\u001b[0;34m)\u001b[0m\u001b[0;34m:\u001b[0m\u001b[0;34m\u001b[0m\u001b[0;34m\u001b[0m\u001b[0m\n\u001b[1;32m      9\u001b[0m     \u001b[0mindices\u001b[0m \u001b[0;34m=\u001b[0m \u001b[0mnp\u001b[0m\u001b[0;34m.\u001b[0m\u001b[0mwhere\u001b[0m\u001b[0;34m(\u001b[0m\u001b[0mcolour_map\u001b[0m \u001b[0;34m==\u001b[0m \u001b[0mclass_\u001b[0m\u001b[0;34m)\u001b[0m\u001b[0;34m\u001b[0m\u001b[0;34m\u001b[0m\u001b[0m\n\u001b[0;32m---> 10\u001b[0;31m     \u001b[0mlble\u001b[0m \u001b[0;34m=\u001b[0m \u001b[0mencoder\u001b[0m\u001b[0;34m.\u001b[0m\u001b[0minverse_transform\u001b[0m\u001b[0;34m(\u001b[0m\u001b[0mclass_\u001b[0m\u001b[0;34m)\u001b[0m\u001b[0;34m\u001b[0m\u001b[0;34m\u001b[0m\u001b[0m\n\u001b[0m\u001b[1;32m     11\u001b[0m     \u001b[0mplt\u001b[0m\u001b[0;34m.\u001b[0m\u001b[0mscatter\u001b[0m\u001b[0;34m(\u001b[0m\u001b[0mtsne\u001b[0m\u001b[0;34m[\u001b[0m\u001b[0mindices\u001b[0m\u001b[0;34m[\u001b[0m\u001b[0;36m0\u001b[0m\u001b[0;34m]\u001b[0m\u001b[0;34m,\u001b[0m \u001b[0;36m0\u001b[0m\u001b[0;34m]\u001b[0m\u001b[0;34m,\u001b[0m \u001b[0mtsne\u001b[0m\u001b[0;34m[\u001b[0m\u001b[0mindices\u001b[0m\u001b[0;34m[\u001b[0m\u001b[0;36m0\u001b[0m\u001b[0;34m]\u001b[0m\u001b[0;34m,\u001b[0m\u001b[0;36m1\u001b[0m\u001b[0;34m]\u001b[0m\u001b[0;34m,\u001b[0m \u001b[0mlabel\u001b[0m \u001b[0;34m=\u001b[0m \u001b[0mlble\u001b[0m\u001b[0;34m)\u001b[0m\u001b[0;34m\u001b[0m\u001b[0;34m\u001b[0m\u001b[0m\n\u001b[1;32m     12\u001b[0m \u001b[0;34m\u001b[0m\u001b[0m\n",
      "\u001b[0;31mNameError\u001b[0m: name 'encoder' is not defined"
     ]
    },
    {
     "data": {
      "text/plain": [
       "<Figure size 720x720 with 0 Axes>"
      ]
     },
     "metadata": {},
     "output_type": "display_data"
    }
   ],
   "source": [
    "## TEST SCRIPT ##\n",
    "output = y_predictions\n",
    "\n",
    "tsne = TSNE(n_components = 2).fit_transform(output)\n",
    "plt.figure(figsize = (10,10))\n",
    "\n",
    "colour_map = np.argmax(encoded_labels, axis = 1)\n",
    "for class_ in range(num_classes):\n",
    "    indices = np.where(colour_map == class_)\n",
    "    lble = encoder.inverse_transform(class_)\n",
    "    plt.scatter(tsne[indices[0], 0], tsne[indices[0],1], label = lble)\n",
    "    \n",
    "plt.title('tSNE Plot')\n",
    "plt.legend()\n",
    "\n",
    "plt.savefig(\"tsne_plot.jpeg\")\n",
    "plt.show()"
   ]
  },
  {
   "cell_type": "code",
   "execution_count": null,
   "id": "fadee67a",
   "metadata": {},
   "outputs": [],
   "source": []
  }
 ],
 "metadata": {
  "kernelspec": {
   "display_name": "Python 3",
   "language": "python",
   "name": "python3"
  },
  "language_info": {
   "codemirror_mode": {
    "name": "ipython",
    "version": 3
   },
   "file_extension": ".py",
   "mimetype": "text/x-python",
   "name": "python",
   "nbconvert_exporter": "python",
   "pygments_lexer": "ipython3",
   "version": "3.9.6"
  }
 },
 "nbformat": 4,
 "nbformat_minor": 5
}
