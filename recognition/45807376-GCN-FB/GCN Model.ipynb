{
 "cells": [
  {
   "cell_type": "markdown",
   "id": "62612ac2",
   "metadata": {},
   "source": [
    "#### Import Required Modules"
   ]
  },
  {
   "cell_type": "code",
   "execution_count": 1,
   "id": "4819f01b",
   "metadata": {},
   "outputs": [],
   "source": [
    "import numpy as np\n",
    "import tensorflow as tf\n",
    "import pandas as pd\n",
    "import random\n",
    "\n",
    "from sklearn.manifold import TSNE\n",
    "from sklearn.preprocessing import LabelEncoder\n",
    "from sklearn.metrics import classification_report\n",
    "\n",
    "from tensorflow.keras import layers, optimizers, losses, Model\n",
    "from tensorflow.keras.utils import to_categorical\n",
    "\n",
    "import matplotlib as plt\n",
    "from model import *"
   ]
  },
  {
   "cell_type": "markdown",
   "id": "117c07a2",
   "metadata": {},
   "source": [
    "## Loading & Preprocessing Data\n",
    "#### Feature Extraction - Load data from facebook dataset"
   ]
  },
  {
   "cell_type": "code",
   "execution_count": 2,
   "id": "a451e99b",
   "metadata": {},
   "outputs": [
    {
     "name": "stdout",
     "output_type": "stream",
     "text": [
      "num of classes: 4\n",
      "num of nodes: 22470\n",
      "num of features: 128\n",
      "num of edges: 171002.0\n"
     ]
    }
   ],
   "source": [
    "# load data\n",
    "X_features, labels, edges = load_data()\n",
    "\n",
    "# check loaded properly\n",
    "num_classes = len(np.unique(labels))\n",
    "num_nodes = X_features.shape[0]\n",
    "num_features = X_features.shape[1]\n",
    "num_edges = len(edges)/2\n",
    "\n",
    "print(\"num of classes: \" + str(num_classes))\n",
    "print(\"num of nodes: \" + str(num_nodes))\n",
    "print(\"num of features: \" + str(num_features))\n",
    "print(\"num of edges: \"+ str(num_edges))\n",
    "\n",
    "# adjacency matrix\n",
    "A = get_adj_matrix(labels, edges)"
   ]
  },
  {
   "cell_type": "markdown",
   "id": "c849e276",
   "metadata": {},
   "source": [
    "#### Normalise Adjacency Matrix"
   ]
  },
  {
   "cell_type": "code",
   "execution_count": 3,
   "id": "f660c16d",
   "metadata": {},
   "outputs": [
    {
     "ename": "NameError",
     "evalue": "name 'adj_matrix' is not defined",
     "output_type": "error",
     "traceback": [
      "\u001b[0;31m---------------------------------------------------------------------------\u001b[0m",
      "\u001b[0;31mNameError\u001b[0m                                 Traceback (most recent call last)",
      "\u001b[0;32m<ipython-input-3-b9877746bd72>\u001b[0m in \u001b[0;36m<module>\u001b[0;34m\u001b[0m\n\u001b[1;32m      1\u001b[0m \u001b[0;31m# normalise\u001b[0m\u001b[0;34m\u001b[0m\u001b[0;34m\u001b[0m\u001b[0;34m\u001b[0m\u001b[0m\n\u001b[0;32m----> 2\u001b[0;31m \u001b[0mA\u001b[0m \u001b[0;34m=\u001b[0m \u001b[0mnormalise_adj\u001b[0m\u001b[0;34m(\u001b[0m\u001b[0madj_matrix\u001b[0m\u001b[0;34m)\u001b[0m\u001b[0;34m\u001b[0m\u001b[0;34m\u001b[0m\u001b[0m\n\u001b[0m",
      "\u001b[0;31mNameError\u001b[0m: name 'adj_matrix' is not defined"
     ]
    }
   ],
   "source": [
    "# normalise\n",
    "A = normalise_adj(adj_matrix)"
   ]
  },
  {
   "cell_type": "markdown",
   "id": "47e46e6d",
   "metadata": {},
   "source": [
    "#### Split Training, Validation, and Testing"
   ]
  },
  {
   "cell_type": "code",
   "execution_count": null,
   "id": "7d0c4d09",
   "metadata": {},
   "outputs": [],
   "source": [
    "## in py file ###\n",
    "def split_index(data):\n",
    "    \"\"\" Partitions the dataset into training, validation, and testing splits\n",
    "        of 0.2 : 0.2 : 0.6 since semi-supervised.\n",
    "    Parameters:\n",
    "        data: data to be split\n",
    "    Returns:\n",
    "        Indices of Training set, Validation, and Test set\n",
    "    \"\"\"\n",
    "    size = int(len(data)*0.2)\n",
    "    indices = [i for i in range(len(data))]\n",
    "\n",
    "    # training split\n",
    "    train_set = random.sample(indices, k = size)\n",
    "    \n",
    "    # split remainder of set\n",
    "    remainder = set(indices).difference(train_set)\n",
    "\n",
    "    val_set = random.sample(remainder, k = size)\n",
    "    test_set = list(set(remainder).difference(val_set))\n",
    "    \n",
    "    return train_set, val_set, test_set"
   ]
  },
  {
   "cell_type": "code",
   "execution_count": null,
   "id": "a6ffd79f",
   "metadata": {},
   "outputs": [],
   "source": [
    "# Get indices for splitting set\n",
    "train_idx, val_idx, test_idx = split_index(labels)\n",
    "\n",
    "# Apply mask\n",
    "train_mask = np.zeros((num_nodes,), dtype = bool)\n",
    "val_mask = np.zeros((num_nodes,), dtype = bool)\n",
    "test_mask = np.zeros((num_nodes,), dtype = bool)\n",
    "\n",
    "train_mask[train_idx] = True\n",
    "val_mask[val_idx] = True\n",
    "test_mask[test_idx] = True"
   ]
  },
  {
   "cell_type": "code",
   "execution_count": null,
   "id": "67cae4fd",
   "metadata": {},
   "outputs": [],
   "source": [
    "# One-hot encoding\n",
    "def encode(labels):\n",
    "    encoder = LabelEncoder()\n",
    "    labels = encoder.fit_transform(labels) # returns encoded labels\n",
    "    encoded_labels = to_categorical(labels)\n",
    "    return encoded_labels, encoder.classes_\n",
    "\n",
    "encoded_labels, classes = encode(labels)\n",
    "\n",
    "print(encoded_labels)\n",
    "print(classes)"
   ]
  },
  {
   "cell_type": "markdown",
   "id": "86bbb24f",
   "metadata": {},
   "source": [
    "## Building & Training GCN"
   ]
  },
  {
   "cell_type": "code",
   "execution_count": null,
   "id": "0a533c74",
   "metadata": {},
   "outputs": [],
   "source": [
    "# Parameters\n",
    "channels = 16 #num for first layer\n",
    "dropout = 0.5 #rate\n",
    "l2_reg = 5e-4 # regularisation rate\n",
    "l_rate = 1e-2 #learning rate\n",
    "epochs = 200 #number of epochs\n",
    "input_channels = num_nodes"
   ]
  },
  {
   "cell_type": "code",
   "execution_count": null,
   "id": "7fa3802c",
   "metadata": {},
   "outputs": [],
   "source": [
    "# Create and Compile\n",
    "model = GCN_Model(num_classes, channels, \n",
    "                  dropout, l2_reg, input_channels)\n",
    "\n",
    "model.compile(optimizer = Adam(learning_rate = l_rate),\n",
    "                               loss = 'categorical_crossentropy',\n",
    "                              metrics = [acc])\n",
    "model.summary()"
   ]
  },
  {
   "cell_type": "code",
   "execution_count": null,
   "id": "27857857",
   "metadata": {},
   "outputs": [],
   "source": [
    "# Train\n",
    "\n",
    "def train():\n",
    "    validation_data = ([X_features, A], encoded_labels, val_mask)\n",
    "    \n",
    "    model.fit([X_features, A], \n",
    "              encoded_labels,\n",
    "             sample_weight = train_mask,\n",
    "             epochs = epochs,\n",
    "             batch_size = num_nodes,\n",
    "             validation_data = validation_data,\n",
    "              shuffle = False)\n",
    "    "
   ]
  },
  {
   "cell_type": "markdown",
   "id": "cf6a0bc3",
   "metadata": {},
   "source": [
    "## Results"
   ]
  },
  {
   "cell_type": "code",
   "execution_count": null,
   "id": "40049904",
   "metadata": {},
   "outputs": [],
   "source": [
    "X_test = X_features[test_mask]\n",
    "A_test = A[test_mask, :][:,test_mask]\n",
    "y_test = encoded_labels[tesk_mask]\n",
    "\n",
    "# Evaluation\n",
    "y_predictions = model.predict([X_test, A_test], \n",
    "                            batch_size = num_nodes)\n",
    "\n",
    "report = classification_report(y_test, y_predictions, \n",
    "                               target_names = classes)\n",
    "\n",
    "print(report)"
   ]
  },
  {
   "cell_type": "markdown",
   "id": "523e5bda",
   "metadata": {},
   "source": [
    "## TSNE Plot"
   ]
  },
  {
   "cell_type": "markdown",
   "id": "b8849842",
   "metadata": {},
   "source": [
    "Each point is a node representing the facebook page. The colours represent the four possible categories."
   ]
  },
  {
   "cell_type": "code",
   "execution_count": null,
   "id": "9f669a53",
   "metadata": {},
   "outputs": [],
   "source": [
    "## TEST SCRIPT ##\n",
    "output = output of first gcn layer\n",
    "\n",
    "tsne = TSNE(n_components = 2).fit_transform(output)\n",
    "plt.figre(figsize = (10,10))\n",
    "\n",
    "colour_map = np.argmax(encoded_labels, axis = 1)\n",
    "for i in range(num_classes):\n",
    "    indices = np.where(color_map == i)\n",
    "    \n",
    "    plt.scatter(tsne[indices[0], 0], tsne[indices[0],1], label = i)\n",
    "    \n",
    "plt.title('tSNE Plot')\n",
    "plt.legend()\n",
    "plt.show()"
   ]
  }
 ],
 "metadata": {
  "kernelspec": {
   "display_name": "Python 3",
   "language": "python",
   "name": "python3"
  },
  "language_info": {
   "codemirror_mode": {
    "name": "ipython",
    "version": 3
   },
   "file_extension": ".py",
   "mimetype": "text/x-python",
   "name": "python",
   "nbconvert_exporter": "python",
   "pygments_lexer": "ipython3",
   "version": "3.9.6"
  }
 },
 "nbformat": 4,
 "nbformat_minor": 5
}
